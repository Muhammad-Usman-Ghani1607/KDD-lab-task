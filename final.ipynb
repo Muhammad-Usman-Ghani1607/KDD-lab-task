{
 "cells": [
  {
   "cell_type": "code",
   "execution_count": 1,
   "id": "c3a136cd-c332-4c78-a635-2af8b28bb383",
   "metadata": {},
   "outputs": [
    {
     "ename": "SyntaxError",
     "evalue": "'(' was never closed (3756976782.py, line 52)",
     "output_type": "error",
     "traceback": [
      "\u001b[1;36m  Cell \u001b[1;32mIn[1], line 52\u001b[1;36m\u001b[0m\n\u001b[1;33m    upload_widget = widgets.FileUpload(\u001b[0m\n\u001b[1;37m                                      ^\u001b[0m\n\u001b[1;31mSyntaxError\u001b[0m\u001b[1;31m:\u001b[0m '(' was never closed\n"
     ]
    }
   ],
   "source": [
    "# Loading necessary libraries\n",
    "from datasets import load_dataset   # loading pubmed dataset\n",
    "import re   # for using regex functions\n",
    "from transformers import T5Tokenizer, T5ForConditionalGeneration  # for model training \n",
    "import ipywidgets as widgets   # for displaying widgets\n",
    "from IPython.display import display, HTML, clear_output\n",
    "from ipywidgets import Output, Button\n",
    "\n",
    "# Load the PubMed Summarization dataset\n",
    "dataset = load_dataset(\"ccdv/pubmed-summarization\", \"document\")\n",
    "\n",
    "# Access the 'train' split of the dataset\n",
    "train_dataset = dataset['train']\n",
    "\n",
    "# Preprocessing function\n",
    "def preprocess_text(text):\n",
    "    # Remove special characters and unnecessary spaces\n",
    "    text = re.sub(r'\\s+', ' ', text)\n",
    "    text = re.sub(r'[^\\w\\s]', '', text)\n",
    "    return text\n",
    "\n",
    "# Load T5 model and tokenizer\n",
    "model_name = \"t5-small\"\n",
    "tokenizer = T5Tokenizer.from_pretrained(model_name)\n",
    "model = T5ForConditionalGeneration.from_pretrained(model_name)\n",
    "\n",
    "# Function to generate summary\n",
    "def generate_summary(article_text):\n",
    "    inputs = tokenizer.encode(\"summarize: \" + article_text, return_tensors=\"pt\", max_length=512, truncation=True)\n",
    "    summary_ids = model.generate(inputs, max_length=150, min_length=40, length_penalty=2.0, num_beams=4, early_stopping=True)\n",
    "    summary = tokenizer.decode(summary_ids[0], skip_special_tokens=True)\n",
    "    return summary\n",
    "\n",
    "# Function to handle file upload and summarization\n",
    "def on_upload(btn):\n",
    "    if len(upload_widget.value) == 0:\n",
    "        return  # No file selected\n",
    "    \n",
    "    file_content = upload_widget.value[list(upload_widget.value.keys())[0]]['content'].decode('utf-8')\n",
    "    preprocessed_article = preprocess_text(file_content)\n",
    "    summary = generate_summary(preprocessed_article)\n",
    "    \n",
    "    with output:\n",
    "        clear_output(wait=True)\n",
    "        display(HTML(\"<h3>Original Article</h3>\"))\n",
    "        display(HTML(\"<p>{}</p>\".format(file_content.replace('\\n', '<br>'))))\n",
    "\n",
    "        display(HTML(\"<h3>Summarized Article</h3>\"))\n",
    "        display(HTML(\"<p>{}</p>\".format(summary.replace('\\n', '<br>'))))\n",
    "\n",
    "# Create file upload widget\n",
    "upload_widget = widgets.FileUpload(\n",
    "    accept='.txt',  # Accept .txt files\n",
    "    multiple=False  # Do not allow multiple file uploads\n",
    ")\n",
    "\n",
    "# Create button widget to trigger upload and summarize action\n",
    "upload_button = Button(description='Upload and Summarize')\n",
    "upload_button.on_click(on_upload)\n",
    "\n",
    "# Output widget to display results\n",
    "output = Output()\n",
    "\n",
    "# Display widgets\n",
    "display(widgets.VBox([upload_widget, upload_button]))\n",
    "display(output)\n"
   ]
  },
  {
   "cell_type": "code",
   "execution_count": null,
   "id": "69f3eb68-01d1-41c6-a6c4-e610b1a3947d",
   "metadata": {},
   "outputs": [],
   "source": []
  }
 ],
 "metadata": {
  "kernelspec": {
   "display_name": "Python 3 (ipykernel)",
   "language": "python",
   "name": "python3"
  },
  "language_info": {
   "codemirror_mode": {
    "name": "ipython",
    "version": 3
   },
   "file_extension": ".py",
   "mimetype": "text/x-python",
   "name": "python",
   "nbconvert_exporter": "python",
   "pygments_lexer": "ipython3",
   "version": "3.12.3"
  }
 },
 "nbformat": 4,
 "nbformat_minor": 5
}
